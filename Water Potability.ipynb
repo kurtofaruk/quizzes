{
  "nbformat": 4,
  "nbformat_minor": 0,
  "metadata": {
    "colab": {
      "name": "Untitled0.ipynb",
      "provenance": [],
      "collapsed_sections": [],
      "authorship_tag": "ABX9TyPIm1n1miQz2zoVJZpLNRrI",
      "include_colab_link": true
    },
    "kernelspec": {
      "name": "python3",
      "display_name": "Python 3"
    },
    "language_info": {
      "name": "python"
    }
  },
  "cells": [
    {
      "cell_type": "markdown",
      "metadata": {
        "id": "view-in-github",
        "colab_type": "text"
      },
      "source": [
        "<a href=\"https://colab.research.google.com/github/kurtofaruk/quizzes/blob/main/Water%20Potability.ipynb\" target=\"_parent\"><img src=\"https://colab.research.google.com/assets/colab-badge.svg\" alt=\"Open In Colab\"/></a>"
      ]
    },
    {
      "cell_type": "code",
      "source": [
        "import pandas as pd \n",
        "import numpy as np \n",
        "import matplotlib.pyplot as plt \n",
        "import seaborn as sns\n",
        "from sklearn.preprocessing import StandardScaler \n",
        "from sklearn.model_selection import train_test_split \n",
        "from sklearn.linear_model import LinearRegression \n",
        "from sklearn.linear_model import LogisticRegression\n",
        "from sklearn.metrics import precision_score,accuracy_score \n",
        "\n",
        "from sklearn.tree import DecisionTreeClassifier\n",
        "from sklearn.ensemble import RandomForestClassifier\n",
        "from sklearn.linear_model import LogisticRegression\n",
        "from xgboost import XGBClassifier\n",
        "\n",
        "\n",
        "from sklearn.impute import SimpleImputer\n",
        "from sklearn.metrics import confusion_matrix\n",
        "from sklearn.metrics import r2_score\n",
        "from sklearn import svm\n",
        "from sklearn.metrics import ConfusionMatrixDisplay\n"
      ],
      "metadata": {
        "id": "X2XKo0B4FQm6"
      },
      "execution_count": 230,
      "outputs": []
    },
    {
      "cell_type": "code",
      "source": [
        "df = pd.read_csv (\"/content/water_potability (1).csv\") "
      ],
      "metadata": {
        "id": "8WoLAf9e7uzG"
      },
      "execution_count": null,
      "outputs": []
    },
    {
      "cell_type": "code",
      "source": [
        "df.head()"
      ],
      "metadata": {
        "colab": {
          "base_uri": "https://localhost:8080/",
          "height": 206
        },
        "id": "UYiMKMWi8UE7",
        "outputId": "a1df1474-78fd-469a-cb63-3c114c41af98"
      },
      "execution_count": null,
      "outputs": [
        {
          "output_type": "execute_result",
          "data": {
            "text/html": [
              "<div>\n",
              "<style scoped>\n",
              "    .dataframe tbody tr th:only-of-type {\n",
              "        vertical-align: middle;\n",
              "    }\n",
              "\n",
              "    .dataframe tbody tr th {\n",
              "        vertical-align: top;\n",
              "    }\n",
              "\n",
              "    .dataframe thead th {\n",
              "        text-align: right;\n",
              "    }\n",
              "</style>\n",
              "<table border=\"1\" class=\"dataframe\">\n",
              "  <thead>\n",
              "    <tr style=\"text-align: right;\">\n",
              "      <th></th>\n",
              "      <th>ph</th>\n",
              "      <th>Hardness</th>\n",
              "      <th>Solids</th>\n",
              "      <th>Chloramines</th>\n",
              "      <th>Sulfate</th>\n",
              "      <th>Conductivity</th>\n",
              "      <th>Organic_carbon</th>\n",
              "      <th>Trihalomethanes</th>\n",
              "      <th>Turbidity</th>\n",
              "      <th>Potability</th>\n",
              "    </tr>\n",
              "  </thead>\n",
              "  <tbody>\n",
              "    <tr>\n",
              "      <th>0</th>\n",
              "      <td>NaN</td>\n",
              "      <td>204.890455</td>\n",
              "      <td>20791.318981</td>\n",
              "      <td>7.300212</td>\n",
              "      <td>368.516441</td>\n",
              "      <td>564.308654</td>\n",
              "      <td>10.379783</td>\n",
              "      <td>86.990970</td>\n",
              "      <td>2.963135</td>\n",
              "      <td>0</td>\n",
              "    </tr>\n",
              "    <tr>\n",
              "      <th>1</th>\n",
              "      <td>3.716080</td>\n",
              "      <td>129.422921</td>\n",
              "      <td>18630.057858</td>\n",
              "      <td>6.635246</td>\n",
              "      <td>NaN</td>\n",
              "      <td>592.885359</td>\n",
              "      <td>15.180013</td>\n",
              "      <td>56.329076</td>\n",
              "      <td>4.500656</td>\n",
              "      <td>0</td>\n",
              "    </tr>\n",
              "    <tr>\n",
              "      <th>2</th>\n",
              "      <td>8.099124</td>\n",
              "      <td>224.236259</td>\n",
              "      <td>19909.541732</td>\n",
              "      <td>9.275884</td>\n",
              "      <td>NaN</td>\n",
              "      <td>418.606213</td>\n",
              "      <td>16.868637</td>\n",
              "      <td>66.420093</td>\n",
              "      <td>3.055934</td>\n",
              "      <td>0</td>\n",
              "    </tr>\n",
              "    <tr>\n",
              "      <th>3</th>\n",
              "      <td>8.316766</td>\n",
              "      <td>214.373394</td>\n",
              "      <td>22018.417441</td>\n",
              "      <td>8.059332</td>\n",
              "      <td>356.886136</td>\n",
              "      <td>363.266516</td>\n",
              "      <td>18.436524</td>\n",
              "      <td>100.341674</td>\n",
              "      <td>4.628771</td>\n",
              "      <td>0</td>\n",
              "    </tr>\n",
              "    <tr>\n",
              "      <th>4</th>\n",
              "      <td>9.092223</td>\n",
              "      <td>181.101509</td>\n",
              "      <td>17978.986339</td>\n",
              "      <td>6.546600</td>\n",
              "      <td>310.135738</td>\n",
              "      <td>398.410813</td>\n",
              "      <td>11.558279</td>\n",
              "      <td>31.997993</td>\n",
              "      <td>4.075075</td>\n",
              "      <td>0</td>\n",
              "    </tr>\n",
              "  </tbody>\n",
              "</table>\n",
              "</div>"
            ],
            "text/plain": [
              "         ph    Hardness        Solids  ...  Trihalomethanes  Turbidity  Potability\n",
              "0       NaN  204.890455  20791.318981  ...        86.990970   2.963135           0\n",
              "1  3.716080  129.422921  18630.057858  ...        56.329076   4.500656           0\n",
              "2  8.099124  224.236259  19909.541732  ...        66.420093   3.055934           0\n",
              "3  8.316766  214.373394  22018.417441  ...       100.341674   4.628771           0\n",
              "4  9.092223  181.101509  17978.986339  ...        31.997993   4.075075           0\n",
              "\n",
              "[5 rows x 10 columns]"
            ]
          },
          "metadata": {},
          "execution_count": 195
        }
      ]
    },
    {
      "cell_type": "code",
      "source": [
        "df.describe()"
      ],
      "metadata": {
        "colab": {
          "base_uri": "https://localhost:8080/",
          "height": 300
        },
        "id": "CmplNIDc8WG5",
        "outputId": "e49da77c-07b9-4e1b-99bd-1a55c459335d"
      },
      "execution_count": null,
      "outputs": [
        {
          "output_type": "execute_result",
          "data": {
            "text/html": [
              "<div>\n",
              "<style scoped>\n",
              "    .dataframe tbody tr th:only-of-type {\n",
              "        vertical-align: middle;\n",
              "    }\n",
              "\n",
              "    .dataframe tbody tr th {\n",
              "        vertical-align: top;\n",
              "    }\n",
              "\n",
              "    .dataframe thead th {\n",
              "        text-align: right;\n",
              "    }\n",
              "</style>\n",
              "<table border=\"1\" class=\"dataframe\">\n",
              "  <thead>\n",
              "    <tr style=\"text-align: right;\">\n",
              "      <th></th>\n",
              "      <th>ph</th>\n",
              "      <th>Hardness</th>\n",
              "      <th>Solids</th>\n",
              "      <th>Chloramines</th>\n",
              "      <th>Sulfate</th>\n",
              "      <th>Conductivity</th>\n",
              "      <th>Organic_carbon</th>\n",
              "      <th>Trihalomethanes</th>\n",
              "      <th>Turbidity</th>\n",
              "      <th>Potability</th>\n",
              "    </tr>\n",
              "  </thead>\n",
              "  <tbody>\n",
              "    <tr>\n",
              "      <th>count</th>\n",
              "      <td>2785.000000</td>\n",
              "      <td>3276.000000</td>\n",
              "      <td>3276.000000</td>\n",
              "      <td>3276.000000</td>\n",
              "      <td>2495.000000</td>\n",
              "      <td>3276.000000</td>\n",
              "      <td>3276.000000</td>\n",
              "      <td>3114.000000</td>\n",
              "      <td>3276.000000</td>\n",
              "      <td>3276.000000</td>\n",
              "    </tr>\n",
              "    <tr>\n",
              "      <th>mean</th>\n",
              "      <td>7.080795</td>\n",
              "      <td>196.369496</td>\n",
              "      <td>22014.092526</td>\n",
              "      <td>7.122277</td>\n",
              "      <td>333.775777</td>\n",
              "      <td>426.205111</td>\n",
              "      <td>14.284970</td>\n",
              "      <td>66.396293</td>\n",
              "      <td>3.966786</td>\n",
              "      <td>0.390110</td>\n",
              "    </tr>\n",
              "    <tr>\n",
              "      <th>std</th>\n",
              "      <td>1.594320</td>\n",
              "      <td>32.879761</td>\n",
              "      <td>8768.570828</td>\n",
              "      <td>1.583085</td>\n",
              "      <td>41.416840</td>\n",
              "      <td>80.824064</td>\n",
              "      <td>3.308162</td>\n",
              "      <td>16.175008</td>\n",
              "      <td>0.780382</td>\n",
              "      <td>0.487849</td>\n",
              "    </tr>\n",
              "    <tr>\n",
              "      <th>min</th>\n",
              "      <td>0.000000</td>\n",
              "      <td>47.432000</td>\n",
              "      <td>320.942611</td>\n",
              "      <td>0.352000</td>\n",
              "      <td>129.000000</td>\n",
              "      <td>181.483754</td>\n",
              "      <td>2.200000</td>\n",
              "      <td>0.738000</td>\n",
              "      <td>1.450000</td>\n",
              "      <td>0.000000</td>\n",
              "    </tr>\n",
              "    <tr>\n",
              "      <th>25%</th>\n",
              "      <td>6.093092</td>\n",
              "      <td>176.850538</td>\n",
              "      <td>15666.690297</td>\n",
              "      <td>6.127421</td>\n",
              "      <td>307.699498</td>\n",
              "      <td>365.734414</td>\n",
              "      <td>12.065801</td>\n",
              "      <td>55.844536</td>\n",
              "      <td>3.439711</td>\n",
              "      <td>0.000000</td>\n",
              "    </tr>\n",
              "    <tr>\n",
              "      <th>50%</th>\n",
              "      <td>7.036752</td>\n",
              "      <td>196.967627</td>\n",
              "      <td>20927.833607</td>\n",
              "      <td>7.130299</td>\n",
              "      <td>333.073546</td>\n",
              "      <td>421.884968</td>\n",
              "      <td>14.218338</td>\n",
              "      <td>66.622485</td>\n",
              "      <td>3.955028</td>\n",
              "      <td>0.000000</td>\n",
              "    </tr>\n",
              "    <tr>\n",
              "      <th>75%</th>\n",
              "      <td>8.062066</td>\n",
              "      <td>216.667456</td>\n",
              "      <td>27332.762127</td>\n",
              "      <td>8.114887</td>\n",
              "      <td>359.950170</td>\n",
              "      <td>481.792304</td>\n",
              "      <td>16.557652</td>\n",
              "      <td>77.337473</td>\n",
              "      <td>4.500320</td>\n",
              "      <td>1.000000</td>\n",
              "    </tr>\n",
              "    <tr>\n",
              "      <th>max</th>\n",
              "      <td>14.000000</td>\n",
              "      <td>323.124000</td>\n",
              "      <td>61227.196008</td>\n",
              "      <td>13.127000</td>\n",
              "      <td>481.030642</td>\n",
              "      <td>753.342620</td>\n",
              "      <td>28.300000</td>\n",
              "      <td>124.000000</td>\n",
              "      <td>6.739000</td>\n",
              "      <td>1.000000</td>\n",
              "    </tr>\n",
              "  </tbody>\n",
              "</table>\n",
              "</div>"
            ],
            "text/plain": [
              "                ph     Hardness  ...    Turbidity   Potability\n",
              "count  2785.000000  3276.000000  ...  3276.000000  3276.000000\n",
              "mean      7.080795   196.369496  ...     3.966786     0.390110\n",
              "std       1.594320    32.879761  ...     0.780382     0.487849\n",
              "min       0.000000    47.432000  ...     1.450000     0.000000\n",
              "25%       6.093092   176.850538  ...     3.439711     0.000000\n",
              "50%       7.036752   196.967627  ...     3.955028     0.000000\n",
              "75%       8.062066   216.667456  ...     4.500320     1.000000\n",
              "max      14.000000   323.124000  ...     6.739000     1.000000\n",
              "\n",
              "[8 rows x 10 columns]"
            ]
          },
          "metadata": {},
          "execution_count": 196
        }
      ]
    },
    {
      "cell_type": "code",
      "source": [
        "df.info()\n",
        "#there are null values in 'ph', 'Sulfate' and 'Trihalomethanes' columns"
      ],
      "metadata": {
        "colab": {
          "base_uri": "https://localhost:8080/"
        },
        "id": "sQTRySZs8hY5",
        "outputId": "18c6b073-f090-456a-8fc0-286ddaec6d22"
      },
      "execution_count": null,
      "outputs": [
        {
          "output_type": "stream",
          "name": "stdout",
          "text": [
            "<class 'pandas.core.frame.DataFrame'>\n",
            "RangeIndex: 3276 entries, 0 to 3275\n",
            "Data columns (total 10 columns):\n",
            " #   Column           Non-Null Count  Dtype  \n",
            "---  ------           --------------  -----  \n",
            " 0   ph               2785 non-null   float64\n",
            " 1   Hardness         3276 non-null   float64\n",
            " 2   Solids           3276 non-null   float64\n",
            " 3   Chloramines      3276 non-null   float64\n",
            " 4   Sulfate          2495 non-null   float64\n",
            " 5   Conductivity     3276 non-null   float64\n",
            " 6   Organic_carbon   3276 non-null   float64\n",
            " 7   Trihalomethanes  3114 non-null   float64\n",
            " 8   Turbidity        3276 non-null   float64\n",
            " 9   Potability       3276 non-null   int64  \n",
            "dtypes: float64(9), int64(1)\n",
            "memory usage: 256.1 KB\n"
          ]
        }
      ]
    },
    {
      "cell_type": "code",
      "source": [
        "for i in df.columns:\n",
        "  plt.figure(figsize=(9,6))\n",
        "  plt.hist(df[i]);\n",
        "  plt.title(i)\n",
        "  "
      ],
      "metadata": {
        "colab": {
          "base_uri": "https://localhost:8080/",
          "height": 1000
        },
        "id": "jjjjI0Tf8tU_",
        "outputId": "71aeb0bd-17dd-4ea0-946f-2504ef9ba2db"
      },
      "execution_count": null,
      "outputs": [
        {
          "output_type": "display_data",
          "data": {
            "image/png": "[encoded data removed]",
            "text/plain": [
              "<Figure size 648x432 with 1 Axes>"
            ]
          },
          "metadata": {
            "needs_background": "light"
          }
        },
        {
          "output_type": "display_data",
          "data": {
            "image/png": "[encoded data removed]",
            "text/plain": [
              "<Figure size 648x432 with 1 Axes>"
            ]
          },
          "metadata": {
            "needs_background": "light"
          }
        },
        {
          "output_type": "display_data",
          "data": {
            "image/png": "[encoded data removed]",
            "text/plain": [
              "<Figure size 648x432 with 1 Axes>"
            ]
          },
          "metadata": {
            "needs_background": "light"
          }
        },
        {
          "output_type": "display_data",
          "data": {
            "image/png": "[encoded data removed]",
            "text/plain": [
              "<Figure size 648x432 with 1 Axes>"
            ]
          },
          "metadata": {
            "needs_background": "light"
          }
        },
        {
          "output_type": "display_data",
          "data": {
            "image/png": "[encoded data removed]",
            "text/plain": [
              "<Figure size 648x432 with 1 Axes>"
            ]
          },
          "metadata": {
            "needs_background": "light"
          }
        },
        {
          "output_type": "display_data",
          "data": {
            "image/png": "[encoded data removed]",
            "text/plain": [
              "<Figure size 648x432 with 1 Axes>"
            ]
          },
          "metadata": {
            "needs_background": "light"
          }
        },
        {
          "output_type": "display_data",
          "data": {
            "image/png": "[encoded data removed]",
            "text/plain": [
              "<Figure size 648x432 with 1 Axes>"
            ]
          },
          "metadata": {
            "needs_background": "light"
          }
        },
        {
          "output_type": "display_data",
          "data": {
            "image/png": "[encoded data removed]",
            "text/plain": [
              "<Figure size 648x432 with 1 Axes>"
            ]
          },
          "metadata": {
            "needs_background": "light"
          }
        },
        {
          "output_type": "display_data",
          "data": {
            "image/png": "[encoded data removed]",
            "text/plain": [
              "<Figure size 648x432 with 1 Axes>"
            ]
          },
          "metadata": {
            "needs_background": "light"
          }
        },
        {
          "output_type": "display_data",
          "data": {
            "image/png": "[encoded data removed]",
            "text/plain": [
              "<Figure size 648x432 with 1 Axes>"
            ]
          },
          "metadata": {
            "needs_background": "light"
          }
        }
      ]
    },
    {
      "cell_type": "code",
      "source": [
        "count_potable = df[df['Potability']==1].count()\n",
        "print(count_potable['Potability'])\n",
        "\n",
        "print(count_potable['Potability'] / df['Potability'].count())\n",
        "#39% of data is Potable"
      ],
      "metadata": {
        "id": "qT-NBLXacZTC",
        "colab": {
          "base_uri": "https://localhost:8080/"
        },
        "outputId": "e37e6f8e-5b20-4ec8-daa0-d3e1a2ec98b5"
      },
      "execution_count": null,
      "outputs": [
        {
          "output_type": "stream",
          "name": "stdout",
          "text": [
            "1278\n",
            "0.3901098901098901\n"
          ]
        }
      ]
    },
    {
      "cell_type": "code",
      "source": [
        "df.corr()"
      ],
      "metadata": {
        "colab": {
          "base_uri": "https://localhost:8080/",
          "height": 363
        },
        "id": "CVYleyMmDUK1",
        "outputId": "fa4c67a0-49a6-41d4-fa2b-a7f1955737d8"
      },
      "execution_count": null,
      "outputs": [
        {
          "output_type": "execute_result",
          "data": {
            "text/html": [
              "<div>\n",
              "<style scoped>\n",
              "    .dataframe tbody tr th:only-of-type {\n",
              "        vertical-align: middle;\n",
              "    }\n",
              "\n",
              "    .dataframe tbody tr th {\n",
              "        vertical-align: top;\n",
              "    }\n",
              "\n",
              "    .dataframe thead th {\n",
              "        text-align: right;\n",
              "    }\n",
              "</style>\n",
              "<table border=\"1\" class=\"dataframe\">\n",
              "  <thead>\n",
              "    <tr style=\"text-align: right;\">\n",
              "      <th></th>\n",
              "      <th>ph</th>\n",
              "      <th>Hardness</th>\n",
              "      <th>Solids</th>\n",
              "      <th>Chloramines</th>\n",
              "      <th>Sulfate</th>\n",
              "      <th>Conductivity</th>\n",
              "      <th>Organic_carbon</th>\n",
              "      <th>Trihalomethanes</th>\n",
              "      <th>Turbidity</th>\n",
              "      <th>Potability</th>\n",
              "    </tr>\n",
              "  </thead>\n",
              "  <tbody>\n",
              "    <tr>\n",
              "      <th>ph</th>\n",
              "      <td>1.000000</td>\n",
              "      <td>0.082096</td>\n",
              "      <td>-0.089288</td>\n",
              "      <td>-0.034350</td>\n",
              "      <td>0.018203</td>\n",
              "      <td>0.018614</td>\n",
              "      <td>0.043503</td>\n",
              "      <td>0.003354</td>\n",
              "      <td>-0.039057</td>\n",
              "      <td>-0.003556</td>\n",
              "    </tr>\n",
              "    <tr>\n",
              "      <th>Hardness</th>\n",
              "      <td>0.082096</td>\n",
              "      <td>1.000000</td>\n",
              "      <td>-0.046899</td>\n",
              "      <td>-0.030054</td>\n",
              "      <td>-0.106923</td>\n",
              "      <td>-0.023915</td>\n",
              "      <td>0.003610</td>\n",
              "      <td>-0.013013</td>\n",
              "      <td>-0.014449</td>\n",
              "      <td>-0.013837</td>\n",
              "    </tr>\n",
              "    <tr>\n",
              "      <th>Solids</th>\n",
              "      <td>-0.089288</td>\n",
              "      <td>-0.046899</td>\n",
              "      <td>1.000000</td>\n",
              "      <td>-0.070148</td>\n",
              "      <td>-0.171804</td>\n",
              "      <td>0.013831</td>\n",
              "      <td>0.010242</td>\n",
              "      <td>-0.009143</td>\n",
              "      <td>0.019546</td>\n",
              "      <td>0.033743</td>\n",
              "    </tr>\n",
              "    <tr>\n",
              "      <th>Chloramines</th>\n",
              "      <td>-0.034350</td>\n",
              "      <td>-0.030054</td>\n",
              "      <td>-0.070148</td>\n",
              "      <td>1.000000</td>\n",
              "      <td>0.027244</td>\n",
              "      <td>-0.020486</td>\n",
              "      <td>-0.012653</td>\n",
              "      <td>0.017084</td>\n",
              "      <td>0.002363</td>\n",
              "      <td>0.023779</td>\n",
              "    </tr>\n",
              "    <tr>\n",
              "      <th>Sulfate</th>\n",
              "      <td>0.018203</td>\n",
              "      <td>-0.106923</td>\n",
              "      <td>-0.171804</td>\n",
              "      <td>0.027244</td>\n",
              "      <td>1.000000</td>\n",
              "      <td>-0.016121</td>\n",
              "      <td>0.030831</td>\n",
              "      <td>-0.030274</td>\n",
              "      <td>-0.011187</td>\n",
              "      <td>-0.023577</td>\n",
              "    </tr>\n",
              "    <tr>\n",
              "      <th>Conductivity</th>\n",
              "      <td>0.018614</td>\n",
              "      <td>-0.023915</td>\n",
              "      <td>0.013831</td>\n",
              "      <td>-0.020486</td>\n",
              "      <td>-0.016121</td>\n",
              "      <td>1.000000</td>\n",
              "      <td>0.020966</td>\n",
              "      <td>0.001285</td>\n",
              "      <td>0.005798</td>\n",
              "      <td>-0.008128</td>\n",
              "    </tr>\n",
              "    <tr>\n",
              "      <th>Organic_carbon</th>\n",
              "      <td>0.043503</td>\n",
              "      <td>0.003610</td>\n",
              "      <td>0.010242</td>\n",
              "      <td>-0.012653</td>\n",
              "      <td>0.030831</td>\n",
              "      <td>0.020966</td>\n",
              "      <td>1.000000</td>\n",
              "      <td>-0.013274</td>\n",
              "      <td>-0.027308</td>\n",
              "      <td>-0.030001</td>\n",
              "    </tr>\n",
              "    <tr>\n",
              "      <th>Trihalomethanes</th>\n",
              "      <td>0.003354</td>\n",
              "      <td>-0.013013</td>\n",
              "      <td>-0.009143</td>\n",
              "      <td>0.017084</td>\n",
              "      <td>-0.030274</td>\n",
              "      <td>0.001285</td>\n",
              "      <td>-0.013274</td>\n",
              "      <td>1.000000</td>\n",
              "      <td>-0.022145</td>\n",
              "      <td>0.007130</td>\n",
              "    </tr>\n",
              "    <tr>\n",
              "      <th>Turbidity</th>\n",
              "      <td>-0.039057</td>\n",
              "      <td>-0.014449</td>\n",
              "      <td>0.019546</td>\n",
              "      <td>0.002363</td>\n",
              "      <td>-0.011187</td>\n",
              "      <td>0.005798</td>\n",
              "      <td>-0.027308</td>\n",
              "      <td>-0.022145</td>\n",
              "      <td>1.000000</td>\n",
              "      <td>0.001581</td>\n",
              "    </tr>\n",
              "    <tr>\n",
              "      <th>Potability</th>\n",
              "      <td>-0.003556</td>\n",
              "      <td>-0.013837</td>\n",
              "      <td>0.033743</td>\n",
              "      <td>0.023779</td>\n",
              "      <td>-0.023577</td>\n",
              "      <td>-0.008128</td>\n",
              "      <td>-0.030001</td>\n",
              "      <td>0.007130</td>\n",
              "      <td>0.001581</td>\n",
              "      <td>1.000000</td>\n",
              "    </tr>\n",
              "  </tbody>\n",
              "</table>\n",
              "</div>"
            ],
            "text/plain": [
              "                       ph  Hardness  ...  Turbidity  Potability\n",
              "ph               1.000000  0.082096  ...  -0.039057   -0.003556\n",
              "Hardness         0.082096  1.000000  ...  -0.014449   -0.013837\n",
              "Solids          -0.089288 -0.046899  ...   0.019546    0.033743\n",
              "Chloramines     -0.034350 -0.030054  ...   0.002363    0.023779\n",
              "Sulfate          0.018203 -0.106923  ...  -0.011187   -0.023577\n",
              "Conductivity     0.018614 -0.023915  ...   0.005798   -0.008128\n",
              "Organic_carbon   0.043503  0.003610  ...  -0.027308   -0.030001\n",
              "Trihalomethanes  0.003354 -0.013013  ...  -0.022145    0.007130\n",
              "Turbidity       -0.039057 -0.014449  ...   1.000000    0.001581\n",
              "Potability      -0.003556 -0.013837  ...   0.001581    1.000000\n",
              "\n",
              "[10 rows x 10 columns]"
            ]
          },
          "metadata": {},
          "execution_count": 200
        }
      ]
    },
    {
      "cell_type": "code",
      "source": [
        "#heatmap of corr matrix\n",
        "sns.heatmap(df.corr())\n",
        "#there is no strong relationship among variables"
      ],
      "metadata": {
        "colab": {
          "base_uri": "https://localhost:8080/",
          "height": 360
        },
        "id": "NsBd0nuPYlUe",
        "outputId": "c79ca643-226b-4df6-b97d-b6b3566a4536"
      },
      "execution_count": null,
      "outputs": [
        {
          "output_type": "execute_result",
          "data": {
            "text/plain": [
              "<matplotlib.axes._subplots.AxesSubplot at 0x7f1175114b10>"
            ]
          },
          "metadata": {},
          "execution_count": 203
        },
        {
          "output_type": "display_data",
          "data": {
            "image/png": "[encoded data removed]",
            "text/plain": [
              "<Figure size 432x288 with 2 Axes>"
            ]
          },
          "metadata": {
            "needs_background": "light"
          }
        }
      ]
    },
    {
      "cell_type": "code",
      "source": [
        "for i in df.columns:\n",
        "  plt.figure(figsize=(9,6))\n",
        "  sns.boxplot(df[i])\n",
        "  plt.title(i);\n",
        " #to see outliers\n",
        " #there are outliers in 'ph', 'Sulfate' and 'Trihalomethanes' columns"
      ],
      "metadata": {
        "colab": {
          "base_uri": "https://localhost:8080/",
          "height": 1000
        },
        "id": "UUhQwOcNKlSk",
        "outputId": "bf198bf4-70bb-4a2c-f46b-0863b0440b20"
      },
      "execution_count": null,
      "outputs": [
        {
          "output_type": "stream",
          "name": "stderr",
          "text": [
            "/usr/local/lib/python3.7/dist-packages/seaborn/_decorators.py:43: FutureWarning: Pass the following variable as a keyword arg: x. From version 0.12, the only valid positional argument will be `data`, and passing other arguments without an explicit keyword will result in an error or misinterpretation.\n",
            "  FutureWarning\n",
            "/usr/local/lib/python3.7/dist-packages/seaborn/_decorators.py:43: FutureWarning: Pass the following variable as a keyword arg: x. From version 0.12, the only valid positional argument will be `data`, and passing other arguments without an explicit keyword will result in an error or misinterpretation.\n",
            "  FutureWarning\n",
            "/usr/local/lib/python3.7/dist-packages/seaborn/_decorators.py:43: FutureWarning: Pass the following variable as a keyword arg: x. From version 0.12, the only valid positional argument will be `data`, and passing other arguments without an explicit keyword will result in an error or misinterpretation.\n",
            "  FutureWarning\n",
            "/usr/local/lib/python3.7/dist-packages/seaborn/_decorators.py:43: FutureWarning: Pass the following variable as a keyword arg: x. From version 0.12, the only valid positional argument will be `data`, and passing other arguments without an explicit keyword will result in an error or misinterpretation.\n",
            "  FutureWarning\n",
            "/usr/local/lib/python3.7/dist-packages/seaborn/_decorators.py:43: FutureWarning: Pass the following variable as a keyword arg: x. From version 0.12, the only valid positional argument will be `data`, and passing other arguments without an explicit keyword will result in an error or misinterpretation.\n",
            "  FutureWarning\n",
            "/usr/local/lib/python3.7/dist-packages/seaborn/_decorators.py:43: FutureWarning: Pass the following variable as a keyword arg: x. From version 0.12, the only valid positional argument will be `data`, and passing other arguments without an explicit keyword will result in an error or misinterpretation.\n",
            "  FutureWarning\n",
            "/usr/local/lib/python3.7/dist-packages/seaborn/_decorators.py:43: FutureWarning: Pass the following variable as a keyword arg: x. From version 0.12, the only valid positional argument will be `data`, and passing other arguments without an explicit keyword will result in an error or misinterpretation.\n",
            "  FutureWarning\n",
            "/usr/local/lib/python3.7/dist-packages/seaborn/_decorators.py:43: FutureWarning: Pass the following variable as a keyword arg: x. From version 0.12, the only valid positional argument will be `data`, and passing other arguments without an explicit keyword will result in an error or misinterpretation.\n",
            "  FutureWarning\n",
            "/usr/local/lib/python3.7/dist-packages/seaborn/_decorators.py:43: FutureWarning: Pass the following variable as a keyword arg: x. From version 0.12, the only valid positional argument will be `data`, and passing other arguments without an explicit keyword will result in an error or misinterpretation.\n",
            "  FutureWarning\n",
            "/usr/local/lib/python3.7/dist-packages/seaborn/_decorators.py:43: FutureWarning: Pass the following variable as a keyword arg: x. From version 0.12, the only valid positional argument will be `data`, and passing other arguments without an explicit keyword will result in an error or misinterpretation.\n",
            "  FutureWarning\n"
          ]
        },
        {
          "output_type": "display_data",
          "data": {
            "image/png": "[encoded data removed]",
            "text/plain": [
              "<Figure size 648x432 with 1 Axes>"
            ]
          },
          "metadata": {
            "needs_background": "light"
          }
        },
        {
          "output_type": "display_data",
          "data": {
            "image/png": "[encoded data removed]",
            "text/plain": [
              "<Figure size 648x432 with 1 Axes>"
            ]
          },
          "metadata": {
            "needs_background": "light"
          }
        },
        {
          "output_type": "display_data",
          "data": {
            "image/png": "[encoded data removed]",
            "text/plain": [
              "<Figure size 648x432 with 1 Axes>"
            ]
          },
          "metadata": {
            "needs_background": "light"
          }
        },
        {
          "output_type": "display_data",
          "data": {
            "image/png": "[encoded data removed]",
            "text/plain": [
              "<Figure size 648x432 with 1 Axes>"
            ]
          },
          "metadata": {
            "needs_background": "light"
          }
        },
        {
          "output_type": "display_data",
          "data": {
            "image/png": "[encoded data removed]",
            "text/plain": [
              "<Figure size 648x432 with 1 Axes>"
            ]
          },
          "metadata": {
            "needs_background": "light"
          }
        },
        {
          "output_type": "display_data",
          "data": {
            "image/png": "[encoded data removed]",
            "text/plain": [
              "<Figure size 648x432 with 1 Axes>"
            ]
          },
          "metadata": {
            "needs_background": "light"
          }
        },
        {
          "output_type": "display_data",
          "data": {
            "image/png": "[encoded data removed]",
            "text/plain": [
              "<Figure size 648x432 with 1 Axes>"
            ]
          },
          "metadata": {
            "needs_background": "light"
          }
        },
        {
          "output_type": "display_data",
          "data": {
            "image/png": "[encoded data removed]",
            "text/plain": [
              "<Figure size 648x432 with 1 Axes>"
            ]
          },
          "metadata": {
            "needs_background": "light"
          }
        },
        {
          "output_type": "display_data",
          "data": {
            "image/png": "[encoded data removed]",
            "text/plain": [
              "<Figure size 648x432 with 1 Axes>"
            ]
          },
          "metadata": {
            "needs_background": "light"
          }
        },
        {
          "output_type": "display_data",
          "data": {
            "image/png": "[encoded data removed]",
            "text/plain": [
              "<Figure size 648x432 with 1 Axes>"
            ]
          },
          "metadata": {
            "needs_background": "light"
          }
        }
      ]
    },
    {
      "cell_type": "code",
      "source": [
        "df[df['Potability']==0].describe()\n",
        "#description of non potable values"
      ],
      "metadata": {
        "colab": {
          "base_uri": "https://localhost:8080/",
          "height": 300
        },
        "id": "I3zV2PddJfjH",
        "outputId": "e248bab5-4ada-4264-da82-dc74dee4f802"
      },
      "execution_count": null,
      "outputs": [
        {
          "output_type": "execute_result",
          "data": {
            "text/html": [
              "<div>\n",
              "<style scoped>\n",
              "    .dataframe tbody tr th:only-of-type {\n",
              "        vertical-align: middle;\n",
              "    }\n",
              "\n",
              "    .dataframe tbody tr th {\n",
              "        vertical-align: top;\n",
              "    }\n",
              "\n",
              "    .dataframe thead th {\n",
              "        text-align: right;\n",
              "    }\n",
              "</style>\n",
              "<table border=\"1\" class=\"dataframe\">\n",
              "  <thead>\n",
              "    <tr style=\"text-align: right;\">\n",
              "      <th></th>\n",
              "      <th>ph</th>\n",
              "      <th>Hardness</th>\n",
              "      <th>Solids</th>\n",
              "      <th>Chloramines</th>\n",
              "      <th>Sulfate</th>\n",
              "      <th>Conductivity</th>\n",
              "      <th>Organic_carbon</th>\n",
              "      <th>Trihalomethanes</th>\n",
              "      <th>Turbidity</th>\n",
              "      <th>Potability</th>\n",
              "    </tr>\n",
              "  </thead>\n",
              "  <tbody>\n",
              "    <tr>\n",
              "      <th>count</th>\n",
              "      <td>1684.000000</td>\n",
              "      <td>1998.000000</td>\n",
              "      <td>1998.000000</td>\n",
              "      <td>1998.000000</td>\n",
              "      <td>1510.000000</td>\n",
              "      <td>1998.000000</td>\n",
              "      <td>1998.000000</td>\n",
              "      <td>1891.000000</td>\n",
              "      <td>1998.000000</td>\n",
              "      <td>1998.0</td>\n",
              "    </tr>\n",
              "    <tr>\n",
              "      <th>mean</th>\n",
              "      <td>7.085378</td>\n",
              "      <td>196.733292</td>\n",
              "      <td>21777.490788</td>\n",
              "      <td>7.092175</td>\n",
              "      <td>334.564290</td>\n",
              "      <td>426.730454</td>\n",
              "      <td>14.364335</td>\n",
              "      <td>66.303555</td>\n",
              "      <td>3.965800</td>\n",
              "      <td>0.0</td>\n",
              "    </tr>\n",
              "    <tr>\n",
              "      <th>std</th>\n",
              "      <td>1.683499</td>\n",
              "      <td>31.057540</td>\n",
              "      <td>8543.068788</td>\n",
              "      <td>1.501045</td>\n",
              "      <td>36.745549</td>\n",
              "      <td>80.047317</td>\n",
              "      <td>3.334554</td>\n",
              "      <td>16.079320</td>\n",
              "      <td>0.780282</td>\n",
              "      <td>0.0</td>\n",
              "    </tr>\n",
              "    <tr>\n",
              "      <th>min</th>\n",
              "      <td>0.000000</td>\n",
              "      <td>98.452931</td>\n",
              "      <td>320.942611</td>\n",
              "      <td>1.683993</td>\n",
              "      <td>203.444521</td>\n",
              "      <td>181.483754</td>\n",
              "      <td>4.371899</td>\n",
              "      <td>0.738000</td>\n",
              "      <td>1.450000</td>\n",
              "      <td>0.0</td>\n",
              "    </tr>\n",
              "    <tr>\n",
              "      <th>25%</th>\n",
              "      <td>6.037723</td>\n",
              "      <td>177.823265</td>\n",
              "      <td>15663.057382</td>\n",
              "      <td>6.155640</td>\n",
              "      <td>311.264006</td>\n",
              "      <td>368.498530</td>\n",
              "      <td>12.101057</td>\n",
              "      <td>55.706530</td>\n",
              "      <td>3.444062</td>\n",
              "      <td>0.0</td>\n",
              "    </tr>\n",
              "    <tr>\n",
              "      <th>50%</th>\n",
              "      <td>7.035456</td>\n",
              "      <td>197.123423</td>\n",
              "      <td>20809.618280</td>\n",
              "      <td>7.090334</td>\n",
              "      <td>333.389426</td>\n",
              "      <td>422.229331</td>\n",
              "      <td>14.293508</td>\n",
              "      <td>66.542198</td>\n",
              "      <td>3.948076</td>\n",
              "      <td>0.0</td>\n",
              "    </tr>\n",
              "    <tr>\n",
              "      <th>75%</th>\n",
              "      <td>8.155510</td>\n",
              "      <td>216.120687</td>\n",
              "      <td>27006.249009</td>\n",
              "      <td>8.066462</td>\n",
              "      <td>356.853897</td>\n",
              "      <td>480.677198</td>\n",
              "      <td>16.649485</td>\n",
              "      <td>77.277704</td>\n",
              "      <td>4.496106</td>\n",
              "      <td>0.0</td>\n",
              "    </tr>\n",
              "    <tr>\n",
              "      <th>max</th>\n",
              "      <td>14.000000</td>\n",
              "      <td>304.235912</td>\n",
              "      <td>61227.196008</td>\n",
              "      <td>12.653362</td>\n",
              "      <td>460.107069</td>\n",
              "      <td>753.342620</td>\n",
              "      <td>28.300000</td>\n",
              "      <td>120.030077</td>\n",
              "      <td>6.739000</td>\n",
              "      <td>0.0</td>\n",
              "    </tr>\n",
              "  </tbody>\n",
              "</table>\n",
              "</div>"
            ],
            "text/plain": [
              "                ph     Hardness  ...    Turbidity  Potability\n",
              "count  1684.000000  1998.000000  ...  1998.000000      1998.0\n",
              "mean      7.085378   196.733292  ...     3.965800         0.0\n",
              "std       1.683499    31.057540  ...     0.780282         0.0\n",
              "min       0.000000    98.452931  ...     1.450000         0.0\n",
              "25%       6.037723   177.823265  ...     3.444062         0.0\n",
              "50%       7.035456   197.123423  ...     3.948076         0.0\n",
              "75%       8.155510   216.120687  ...     4.496106         0.0\n",
              "max      14.000000   304.235912  ...     6.739000         0.0\n",
              "\n",
              "[8 rows x 10 columns]"
            ]
          },
          "metadata": {},
          "execution_count": 205
        }
      ]
    },
    {
      "cell_type": "code",
      "source": [
        "df[df['Potability']==1].describe()\n",
        "#description of potable values"
      ],
      "metadata": {
        "colab": {
          "base_uri": "https://localhost:8080/",
          "height": 300
        },
        "id": "yZdZ7D8bQeaM",
        "outputId": "1a8fa747-2c67-434c-a32c-cb14d9c30a2c"
      },
      "execution_count": null,
      "outputs": [
        {
          "output_type": "execute_result",
          "data": {
            "text/html": [
              "<div>\n",
              "<style scoped>\n",
              "    .dataframe tbody tr th:only-of-type {\n",
              "        vertical-align: middle;\n",
              "    }\n",
              "\n",
              "    .dataframe tbody tr th {\n",
              "        vertical-align: top;\n",
              "    }\n",
              "\n",
              "    .dataframe thead th {\n",
              "        text-align: right;\n",
              "    }\n",
              "</style>\n",
              "<table border=\"1\" class=\"dataframe\">\n",
              "  <thead>\n",
              "    <tr style=\"text-align: right;\">\n",
              "      <th></th>\n",
              "      <th>ph</th>\n",
              "      <th>Hardness</th>\n",
              "      <th>Solids</th>\n",
              "      <th>Chloramines</th>\n",
              "      <th>Sulfate</th>\n",
              "      <th>Conductivity</th>\n",
              "      <th>Organic_carbon</th>\n",
              "      <th>Trihalomethanes</th>\n",
              "      <th>Turbidity</th>\n",
              "      <th>Potability</th>\n",
              "    </tr>\n",
              "  </thead>\n",
              "  <tbody>\n",
              "    <tr>\n",
              "      <th>count</th>\n",
              "      <td>1101.000000</td>\n",
              "      <td>1278.000000</td>\n",
              "      <td>1278.000000</td>\n",
              "      <td>1278.000000</td>\n",
              "      <td>985.000000</td>\n",
              "      <td>1278.000000</td>\n",
              "      <td>1278.000000</td>\n",
              "      <td>1223.000000</td>\n",
              "      <td>1278.000000</td>\n",
              "      <td>1278.0</td>\n",
              "    </tr>\n",
              "    <tr>\n",
              "      <th>mean</th>\n",
              "      <td>7.073783</td>\n",
              "      <td>195.800744</td>\n",
              "      <td>22383.991018</td>\n",
              "      <td>7.169338</td>\n",
              "      <td>332.566990</td>\n",
              "      <td>425.383800</td>\n",
              "      <td>14.160893</td>\n",
              "      <td>66.539684</td>\n",
              "      <td>3.968328</td>\n",
              "      <td>1.0</td>\n",
              "    </tr>\n",
              "    <tr>\n",
              "      <th>std</th>\n",
              "      <td>1.448048</td>\n",
              "      <td>35.547041</td>\n",
              "      <td>9101.010208</td>\n",
              "      <td>1.702988</td>\n",
              "      <td>47.692818</td>\n",
              "      <td>82.048446</td>\n",
              "      <td>3.263907</td>\n",
              "      <td>16.327419</td>\n",
              "      <td>0.780842</td>\n",
              "      <td>0.0</td>\n",
              "    </tr>\n",
              "    <tr>\n",
              "      <th>min</th>\n",
              "      <td>0.227499</td>\n",
              "      <td>47.432000</td>\n",
              "      <td>728.750830</td>\n",
              "      <td>0.352000</td>\n",
              "      <td>129.000000</td>\n",
              "      <td>201.619737</td>\n",
              "      <td>2.200000</td>\n",
              "      <td>8.175876</td>\n",
              "      <td>1.492207</td>\n",
              "      <td>1.0</td>\n",
              "    </tr>\n",
              "    <tr>\n",
              "      <th>25%</th>\n",
              "      <td>6.179312</td>\n",
              "      <td>174.330531</td>\n",
              "      <td>15668.985035</td>\n",
              "      <td>6.094134</td>\n",
              "      <td>300.763772</td>\n",
              "      <td>360.939023</td>\n",
              "      <td>12.033897</td>\n",
              "      <td>56.014249</td>\n",
              "      <td>3.430909</td>\n",
              "      <td>1.0</td>\n",
              "    </tr>\n",
              "    <tr>\n",
              "      <th>50%</th>\n",
              "      <td>7.036752</td>\n",
              "      <td>196.632907</td>\n",
              "      <td>21199.386614</td>\n",
              "      <td>7.215163</td>\n",
              "      <td>331.838167</td>\n",
              "      <td>420.712729</td>\n",
              "      <td>14.162809</td>\n",
              "      <td>66.678214</td>\n",
              "      <td>3.958576</td>\n",
              "      <td>1.0</td>\n",
              "    </tr>\n",
              "    <tr>\n",
              "      <th>75%</th>\n",
              "      <td>7.933068</td>\n",
              "      <td>218.003420</td>\n",
              "      <td>27973.236446</td>\n",
              "      <td>8.199261</td>\n",
              "      <td>365.941346</td>\n",
              "      <td>484.155911</td>\n",
              "      <td>16.356245</td>\n",
              "      <td>77.380975</td>\n",
              "      <td>4.509569</td>\n",
              "      <td>1.0</td>\n",
              "    </tr>\n",
              "    <tr>\n",
              "      <th>max</th>\n",
              "      <td>13.175402</td>\n",
              "      <td>323.124000</td>\n",
              "      <td>56488.672413</td>\n",
              "      <td>13.127000</td>\n",
              "      <td>481.030642</td>\n",
              "      <td>695.369528</td>\n",
              "      <td>23.604298</td>\n",
              "      <td>124.000000</td>\n",
              "      <td>6.494249</td>\n",
              "      <td>1.0</td>\n",
              "    </tr>\n",
              "  </tbody>\n",
              "</table>\n",
              "</div>"
            ],
            "text/plain": [
              "                ph     Hardness  ...    Turbidity  Potability\n",
              "count  1101.000000  1278.000000  ...  1278.000000      1278.0\n",
              "mean      7.073783   195.800744  ...     3.968328         1.0\n",
              "std       1.448048    35.547041  ...     0.780842         0.0\n",
              "min       0.227499    47.432000  ...     1.492207         1.0\n",
              "25%       6.179312   174.330531  ...     3.430909         1.0\n",
              "50%       7.036752   196.632907  ...     3.958576         1.0\n",
              "75%       7.933068   218.003420  ...     4.509569         1.0\n",
              "max      13.175402   323.124000  ...     6.494249         1.0\n",
              "\n",
              "[8 rows x 10 columns]"
            ]
          },
          "metadata": {},
          "execution_count": 206
        }
      ]
    },
    {
      "cell_type": "code",
      "source": [
        "null_rows = df[df.isnull().any(axis=1)] #içinde null değer olan satırları null_rows olarak \n",
        "null_rows.describe()"
      ],
      "metadata": {
        "colab": {
          "base_uri": "https://localhost:8080/",
          "height": 300
        },
        "id": "tsNT8Wk8H8WB",
        "outputId": "89ddb005-350d-4461-e57c-eede6837fa73"
      },
      "execution_count": null,
      "outputs": [
        {
          "output_type": "execute_result",
          "data": {
            "text/html": [
              "<div>\n",
              "<style scoped>\n",
              "    .dataframe tbody tr th:only-of-type {\n",
              "        vertical-align: middle;\n",
              "    }\n",
              "\n",
              "    .dataframe tbody tr th {\n",
              "        vertical-align: top;\n",
              "    }\n",
              "\n",
              "    .dataframe thead th {\n",
              "        text-align: right;\n",
              "    }\n",
              "</style>\n",
              "<table border=\"1\" class=\"dataframe\">\n",
              "  <thead>\n",
              "    <tr style=\"text-align: right;\">\n",
              "      <th></th>\n",
              "      <th>ph</th>\n",
              "      <th>Hardness</th>\n",
              "      <th>Solids</th>\n",
              "      <th>Chloramines</th>\n",
              "      <th>Sulfate</th>\n",
              "      <th>Conductivity</th>\n",
              "      <th>Organic_carbon</th>\n",
              "      <th>Trihalomethanes</th>\n",
              "      <th>Turbidity</th>\n",
              "      <th>Potability</th>\n",
              "    </tr>\n",
              "  </thead>\n",
              "  <tbody>\n",
              "    <tr>\n",
              "      <th>count</th>\n",
              "      <td>774.000000</td>\n",
              "      <td>1265.000000</td>\n",
              "      <td>1265.000000</td>\n",
              "      <td>1265.000000</td>\n",
              "      <td>484.000000</td>\n",
              "      <td>1265.000000</td>\n",
              "      <td>1265.000000</td>\n",
              "      <td>1103.000000</td>\n",
              "      <td>1265.000000</td>\n",
              "      <td>1265.000000</td>\n",
              "    </tr>\n",
              "    <tr>\n",
              "      <th>mean</th>\n",
              "      <td>7.067296</td>\n",
              "      <td>197.007650</td>\n",
              "      <td>22167.741116</td>\n",
              "      <td>7.103102</td>\n",
              "      <td>336.065594</td>\n",
              "      <td>425.694336</td>\n",
              "      <td>14.169335</td>\n",
              "      <td>66.387967</td>\n",
              "      <td>3.962108</td>\n",
              "      <td>0.369170</td>\n",
              "    </tr>\n",
              "    <tr>\n",
              "      <th>std</th>\n",
              "      <td>1.648551</td>\n",
              "      <td>33.268014</td>\n",
              "      <td>8967.041744</td>\n",
              "      <td>1.580760</td>\n",
              "      <td>42.251220</td>\n",
              "      <td>81.030312</td>\n",
              "      <td>3.279272</td>\n",
              "      <td>16.359317</td>\n",
              "      <td>0.780726</td>\n",
              "      <td>0.482771</td>\n",
              "    </tr>\n",
              "    <tr>\n",
              "      <th>min</th>\n",
              "      <td>0.000000</td>\n",
              "      <td>47.432000</td>\n",
              "      <td>728.750830</td>\n",
              "      <td>0.352000</td>\n",
              "      <td>211.851592</td>\n",
              "      <td>181.483754</td>\n",
              "      <td>4.473092</td>\n",
              "      <td>0.738000</td>\n",
              "      <td>1.641515</td>\n",
              "      <td>0.000000</td>\n",
              "    </tr>\n",
              "    <tr>\n",
              "      <th>25%</th>\n",
              "      <td>6.096638</td>\n",
              "      <td>177.202010</td>\n",
              "      <td>15736.893959</td>\n",
              "      <td>6.112819</td>\n",
              "      <td>309.209549</td>\n",
              "      <td>365.140579</td>\n",
              "      <td>11.876797</td>\n",
              "      <td>55.640854</td>\n",
              "      <td>3.437946</td>\n",
              "      <td>0.000000</td>\n",
              "    </tr>\n",
              "    <tr>\n",
              "      <th>50%</th>\n",
              "      <td>7.064259</td>\n",
              "      <td>196.533960</td>\n",
              "      <td>20922.154463</td>\n",
              "      <td>7.105204</td>\n",
              "      <td>335.967454</td>\n",
              "      <td>420.120713</td>\n",
              "      <td>14.066057</td>\n",
              "      <td>66.912400</td>\n",
              "      <td>3.930081</td>\n",
              "      <td>0.000000</td>\n",
              "    </tr>\n",
              "    <tr>\n",
              "      <th>75%</th>\n",
              "      <td>8.084984</td>\n",
              "      <td>217.944979</td>\n",
              "      <td>27420.167425</td>\n",
              "      <td>8.120631</td>\n",
              "      <td>360.756486</td>\n",
              "      <td>480.310714</td>\n",
              "      <td>16.334776</td>\n",
              "      <td>77.505822</td>\n",
              "      <td>4.477960</td>\n",
              "      <td>1.000000</td>\n",
              "    </tr>\n",
              "    <tr>\n",
              "      <th>max</th>\n",
              "      <td>13.541240</td>\n",
              "      <td>323.124000</td>\n",
              "      <td>61227.196008</td>\n",
              "      <td>12.912187</td>\n",
              "      <td>462.474215</td>\n",
              "      <td>674.443476</td>\n",
              "      <td>28.300000</td>\n",
              "      <td>118.357275</td>\n",
              "      <td>6.739000</td>\n",
              "      <td>1.000000</td>\n",
              "    </tr>\n",
              "  </tbody>\n",
              "</table>\n",
              "</div>"
            ],
            "text/plain": [
              "               ph     Hardness  ...    Turbidity   Potability\n",
              "count  774.000000  1265.000000  ...  1265.000000  1265.000000\n",
              "mean     7.067296   197.007650  ...     3.962108     0.369170\n",
              "std      1.648551    33.268014  ...     0.780726     0.482771\n",
              "min      0.000000    47.432000  ...     1.641515     0.000000\n",
              "25%      6.096638   177.202010  ...     3.437946     0.000000\n",
              "50%      7.064259   196.533960  ...     3.930081     0.000000\n",
              "75%      8.084984   217.944979  ...     4.477960     1.000000\n",
              "max     13.541240   323.124000  ...     6.739000     1.000000\n",
              "\n",
              "[8 rows x 10 columns]"
            ]
          },
          "metadata": {},
          "execution_count": 207
        }
      ]
    },
    {
      "cell_type": "code",
      "source": [
        "df.dropna().info()\n",
        "#When null values are dropped, 2011 rows will remain in df. That is why I will use fillna. "
      ],
      "metadata": {
        "id": "oo8CAsFnGL5t",
        "colab": {
          "base_uri": "https://localhost:8080/"
        },
        "outputId": "0dce6f4f-762b-4c1a-a1ec-dd6678d3374c"
      },
      "execution_count": null,
      "outputs": [
        {
          "output_type": "stream",
          "name": "stdout",
          "text": [
            "<class 'pandas.core.frame.DataFrame'>\n",
            "Int64Index: 2011 entries, 3 to 3271\n",
            "Data columns (total 10 columns):\n",
            " #   Column           Non-Null Count  Dtype  \n",
            "---  ------           --------------  -----  \n",
            " 0   ph               2011 non-null   float64\n",
            " 1   Hardness         2011 non-null   float64\n",
            " 2   Solids           2011 non-null   float64\n",
            " 3   Chloramines      2011 non-null   float64\n",
            " 4   Sulfate          2011 non-null   float64\n",
            " 5   Conductivity     2011 non-null   float64\n",
            " 6   Organic_carbon   2011 non-null   float64\n",
            " 7   Trihalomethanes  2011 non-null   float64\n",
            " 8   Turbidity        2011 non-null   float64\n",
            " 9   Potability       2011 non-null   int64  \n",
            "dtypes: float64(9), int64(1)\n",
            "memory usage: 172.8 KB\n"
          ]
        }
      ]
    },
    {
      "cell_type": "code",
      "source": [
        "df['ph'].fillna(value=df['ph'].median(),inplace=True)\n",
        "df['Sulfate'].fillna(value=df['Sulfate'].mean(),inplace=True)\n",
        "df['Trihalomethanes'].fillna(value=df['Trihalomethanes'].median(),inplace=True)\n",
        "#I filled null values by median since there are lots of outliers in'ph', 'Sulfate' and 'Trihalomethanes' columns. "
      ],
      "metadata": {
        "id": "07vNapLPQiMF"
      },
      "execution_count": null,
      "outputs": []
    },
    {
      "cell_type": "code",
      "source": [
        "df.describe()"
      ],
      "metadata": {
        "colab": {
          "base_uri": "https://localhost:8080/",
          "height": 300
        },
        "id": "YjvE0HhkQu1N",
        "outputId": "56f95dc0-b83a-41a5-b22c-d253c71be7d6"
      },
      "execution_count": null,
      "outputs": [
        {
          "output_type": "execute_result",
          "data": {
            "text/html": [
              "<div>\n",
              "<style scoped>\n",
              "    .dataframe tbody tr th:only-of-type {\n",
              "        vertical-align: middle;\n",
              "    }\n",
              "\n",
              "    .dataframe tbody tr th {\n",
              "        vertical-align: top;\n",
              "    }\n",
              "\n",
              "    .dataframe thead th {\n",
              "        text-align: right;\n",
              "    }\n",
              "</style>\n",
              "<table border=\"1\" class=\"dataframe\">\n",
              "  <thead>\n",
              "    <tr style=\"text-align: right;\">\n",
              "      <th></th>\n",
              "      <th>ph</th>\n",
              "      <th>Hardness</th>\n",
              "      <th>Solids</th>\n",
              "      <th>Chloramines</th>\n",
              "      <th>Sulfate</th>\n",
              "      <th>Conductivity</th>\n",
              "      <th>Organic_carbon</th>\n",
              "      <th>Trihalomethanes</th>\n",
              "      <th>Turbidity</th>\n",
              "      <th>Potability</th>\n",
              "    </tr>\n",
              "  </thead>\n",
              "  <tbody>\n",
              "    <tr>\n",
              "      <th>count</th>\n",
              "      <td>3276.000000</td>\n",
              "      <td>3276.000000</td>\n",
              "      <td>3276.000000</td>\n",
              "      <td>3276.000000</td>\n",
              "      <td>3276.000000</td>\n",
              "      <td>3276.000000</td>\n",
              "      <td>3276.000000</td>\n",
              "      <td>3276.000000</td>\n",
              "      <td>3276.000000</td>\n",
              "      <td>3276.000000</td>\n",
              "    </tr>\n",
              "    <tr>\n",
              "      <th>mean</th>\n",
              "      <td>7.074194</td>\n",
              "      <td>196.369496</td>\n",
              "      <td>22014.092526</td>\n",
              "      <td>7.122277</td>\n",
              "      <td>333.608364</td>\n",
              "      <td>426.205111</td>\n",
              "      <td>14.284970</td>\n",
              "      <td>66.407478</td>\n",
              "      <td>3.966786</td>\n",
              "      <td>0.390110</td>\n",
              "    </tr>\n",
              "    <tr>\n",
              "      <th>std</th>\n",
              "      <td>1.470040</td>\n",
              "      <td>32.879761</td>\n",
              "      <td>8768.570828</td>\n",
              "      <td>1.583085</td>\n",
              "      <td>36.143851</td>\n",
              "      <td>80.824064</td>\n",
              "      <td>3.308162</td>\n",
              "      <td>15.769958</td>\n",
              "      <td>0.780382</td>\n",
              "      <td>0.487849</td>\n",
              "    </tr>\n",
              "    <tr>\n",
              "      <th>min</th>\n",
              "      <td>0.000000</td>\n",
              "      <td>47.432000</td>\n",
              "      <td>320.942611</td>\n",
              "      <td>0.352000</td>\n",
              "      <td>129.000000</td>\n",
              "      <td>181.483754</td>\n",
              "      <td>2.200000</td>\n",
              "      <td>0.738000</td>\n",
              "      <td>1.450000</td>\n",
              "      <td>0.000000</td>\n",
              "    </tr>\n",
              "    <tr>\n",
              "      <th>25%</th>\n",
              "      <td>6.277673</td>\n",
              "      <td>176.850538</td>\n",
              "      <td>15666.690297</td>\n",
              "      <td>6.127421</td>\n",
              "      <td>317.094638</td>\n",
              "      <td>365.734414</td>\n",
              "      <td>12.065801</td>\n",
              "      <td>56.647656</td>\n",
              "      <td>3.439711</td>\n",
              "      <td>0.000000</td>\n",
              "    </tr>\n",
              "    <tr>\n",
              "      <th>50%</th>\n",
              "      <td>7.036752</td>\n",
              "      <td>196.967627</td>\n",
              "      <td>20927.833607</td>\n",
              "      <td>7.130299</td>\n",
              "      <td>333.073546</td>\n",
              "      <td>421.884968</td>\n",
              "      <td>14.218338</td>\n",
              "      <td>66.622485</td>\n",
              "      <td>3.955028</td>\n",
              "      <td>0.000000</td>\n",
              "    </tr>\n",
              "    <tr>\n",
              "      <th>75%</th>\n",
              "      <td>7.870050</td>\n",
              "      <td>216.667456</td>\n",
              "      <td>27332.762127</td>\n",
              "      <td>8.114887</td>\n",
              "      <td>350.385756</td>\n",
              "      <td>481.792304</td>\n",
              "      <td>16.557652</td>\n",
              "      <td>76.666609</td>\n",
              "      <td>4.500320</td>\n",
              "      <td>1.000000</td>\n",
              "    </tr>\n",
              "    <tr>\n",
              "      <th>max</th>\n",
              "      <td>14.000000</td>\n",
              "      <td>323.124000</td>\n",
              "      <td>61227.196008</td>\n",
              "      <td>13.127000</td>\n",
              "      <td>481.030642</td>\n",
              "      <td>753.342620</td>\n",
              "      <td>28.300000</td>\n",
              "      <td>124.000000</td>\n",
              "      <td>6.739000</td>\n",
              "      <td>1.000000</td>\n",
              "    </tr>\n",
              "  </tbody>\n",
              "</table>\n",
              "</div>"
            ],
            "text/plain": [
              "                ph     Hardness  ...    Turbidity   Potability\n",
              "count  3276.000000  3276.000000  ...  3276.000000  3276.000000\n",
              "mean      7.074194   196.369496  ...     3.966786     0.390110\n",
              "std       1.470040    32.879761  ...     0.780382     0.487849\n",
              "min       0.000000    47.432000  ...     1.450000     0.000000\n",
              "25%       6.277673   176.850538  ...     3.439711     0.000000\n",
              "50%       7.036752   196.967627  ...     3.955028     0.000000\n",
              "75%       7.870050   216.667456  ...     4.500320     1.000000\n",
              "max      14.000000   323.124000  ...     6.739000     1.000000\n",
              "\n",
              "[8 rows x 10 columns]"
            ]
          },
          "metadata": {},
          "execution_count": 221
        }
      ]
    },
    {
      "cell_type": "code",
      "source": [
        "X = df.drop('Potability',axis=1).values\n",
        "y = df['Potability'].values"
      ],
      "metadata": {
        "id": "rAVlvF3GQ3VQ"
      },
      "execution_count": null,
      "outputs": []
    },
    {
      "cell_type": "code",
      "source": [
        "#I seperated data to train and test datasets. 1/5 of data is in test dataset. 4/5 of data is in train dataset.\n",
        "X_train, X_test, y_train, y_test = train_test_split(X, y, test_size=0.2, random_state=0)                      "
      ],
      "metadata": {
        "id": "WlDsdG1uQ4ik"
      },
      "execution_count": null,
      "outputs": []
    },
    {
      "cell_type": "code",
      "source": [
        "\"\"\"\n",
        "scaler = StandardScaler()\n",
        "scaler.fit(X_train)\n",
        "X_train = scaler.transform(X_train)\n",
        "X_test = scaler.transform(X_test)\n",
        "\"\"\""
      ],
      "metadata": {
        "id": "L4cEV7FmQ_kk",
        "colab": {
          "base_uri": "https://localhost:8080/",
          "height": 36
        },
        "outputId": "ae4d19ad-6dab-40e9-d8f2-9f8d7c504b02"
      },
      "execution_count": null,
      "outputs": [
        {
          "output_type": "execute_result",
          "data": {
            "application/vnd.google.colaboratory.intrinsic+json": {
              "type": "string"
            },
            "text/plain": [
              "'\\nscaler = StandardScaler()\\nscaler.fit(X_train)\\nX_train = scaler.transform(X_train)\\nX_test = scaler.transform(X_test)\\n'"
            ]
          },
          "metadata": {},
          "execution_count": 224
        }
      ]
    },
    {
      "cell_type": "code",
      "source": [
        "#logistic regression algorithm \n",
        "logr = LogisticRegression(random_state=0).fit(X,y)\n",
        "logr.fit(X_train, y_train)\n",
        "y_pred = logr.predict(X_test)\n",
        "print(y_pred)\n",
        "print(logr.score(X,y))"
      ],
      "metadata": {
        "colab": {
          "base_uri": "https://localhost:8080/"
        },
        "id": "sHnfRL_zRHXh",
        "outputId": "0a4f1261-ff3b-47cb-bce6-47dabe9116ac"
      },
      "execution_count": null,
      "outputs": [
        {
          "output_type": "stream",
          "name": "stdout",
          "text": [
            "[0 0 0 0 0 0 0 0 0 0 0 0 0 0 0 0 0 0 0 0 0 0 0 0 0 0 0 0 0 0 0 0 0 0 0 0 0\n",
            " 0 0 0 0 0 0 0 0 0 0 0 0 0 0 0 0 0 0 0 0 0 0 0 0 0 0 0 0 0 0 0 0 0 0 0 0 0\n",
            " 0 0 0 0 0 0 0 0 0 0 0 0 0 0 0 0 0 0 0 0 0 0 0 0 0 0 0 0 0 0 0 0 0 0 0 0 0\n",
            " 0 0 0 0 0 0 0 0 0 0 0 0 0 0 0 0 0 0 0 0 0 0 0 0 0 0 0 0 0 0 0 0 0 0 0 0 0\n",
            " 0 0 0 0 0 0 0 0 0 0 0 0 0 0 0 0 0 0 0 0 0 0 0 0 0 0 0 0 0 0 0 0 0 0 0 0 0\n",
            " 0 0 0 0 0 0 0 0 0 0 0 0 0 0 0 0 0 0 0 0 0 0 0 0 0 0 0 0 0 0 0 0 0 0 0 0 0\n",
            " 0 0 0 0 0 0 0 0 0 0 0 0 0 0 0 0 0 0 0 0 0 0 0 0 0 0 0 0 0 0 0 0 0 0 0 0 0\n",
            " 0 0 0 0 0 0 0 0 0 0 0 0 0 0 0 0 0 0 0 0 0 0 0 0 0 0 0 0 0 0 0 0 0 0 0 0 0\n",
            " 0 0 0 0 0 0 0 0 0 0 0 0 0 0 0 0 0 0 0 0 0 0 0 0 0 0 0 0 0 0 0 0 0 0 0 0 0\n",
            " 0 0 0 0 0 0 0 0 0 0 0 0 0 0 0 0 0 0 0 0 0 0 0 0 0 0 0 0 0 0 0 0 0 0 0 0 0\n",
            " 0 0 0 0 0 0 0 0 0 0 0 0 0 0 0 0 0 0 0 0 0 0 0 0 0 0 0 0 0 0 0 0 0 0 0 0 0\n",
            " 0 0 0 0 0 0 0 0 0 0 0 0 0 0 0 0 0 0 0 0 0 0 0 0 0 0 0 0 0 0 0 0 0 0 0 0 0\n",
            " 0 0 0 0 0 0 0 0 0 0 0 0 0 0 0 0 0 0 0 0 0 0 0 0 0 0 0 0 0 0 0 0 0 0 0 0 0\n",
            " 0 0 0 0 0 0 0 0 0 0 0 0 0 0 0 0 0 0 0 0 0 0 0 0 0 0 0 0 0 0 0 0 0 0 0 0 0\n",
            " 0 0 0 0 0 0 0 0 0 0 0 0 0 0 0 0 0 0 0 0 0 0 0 0 0 0 0 0 0 0 0 0 0 0 0 0 0\n",
            " 0 0 0 0 0 0 0 0 0 0 0 0 0 0 0 0 0 0 0 0 0 0 0 0 0 0 0 0 0 0 0 0 0 0 0 0 0\n",
            " 0 0 0 0 0 0 0 0 0 0 0 0 0 0 0 0 0 0 0 0 0 0 0 0 0 0 0 0 0 0 0 0 0 0 0 0 0\n",
            " 0 0 0 0 0 0 0 0 0 0 0 0 0 0 0 0 0 0 0 0 0 0 0 0 0 0 0]\n",
            "0.6105006105006106\n"
          ]
        }
      ]
    },
    {
      "cell_type": "code",
      "source": [
        "#accuracy of logistic regression\n",
        "acc = accuracy_score(y_test,y_pred)\n",
        "print('Accuracy of Logistic Regression :' ,acc)\n",
        "print('**********')\n",
        "cm = confusion_matrix(y_test,y_pred)\n",
        "print('Confusion Matrix of Logistic Regression:' , cm)\n",
        "from sklearn.model_selection import cross_val_score\n",
        "success = cross_val_score(estimator = dtc, X=X_train, y=y_train, cv =10)\n",
        "print(success)\n",
        "#412 values are correct(TP) output, 244 values are incorrect outputs. There is no output for true negatives."
      ],
      "metadata": {
        "colab": {
          "base_uri": "https://localhost:8080/"
        },
        "id": "Sni-dpvaOqKk",
        "outputId": "60dac64d-e553-45aa-878f-9e7b2d2ea548"
      },
      "execution_count": null,
      "outputs": [
        {
          "output_type": "stream",
          "name": "stdout",
          "text": [
            "Accuracy of Logistic Regression : 0.6280487804878049\n",
            "**********\n",
            "Confusion Matrix of Logistic Regression: [[412   0]\n",
            " [244   0]]\n",
            "[0.63358779 0.58396947 0.56870229 0.58396947 0.59541985 0.55343511\n",
            " 0.60687023 0.56870229 0.6221374  0.61832061]\n"
          ]
        }
      ]
    },
    {
      "cell_type": "code",
      "source": [
        "#support vektor machine algoritm\n",
        "from sklearn.svm import SVC\n",
        "cls = SVC(kernel = 'rbf').fit(X_train,y_train)\n",
        "y_pred = cls.predict(X_test)\n",
        "\n",
        "from sklearn.metrics import confusion_matrix\n",
        "cm = confusion_matrix(y_test, y_pred)\n",
        "\n",
        "print(cm)\n",
        "print(r2_score(y,cls.predict(X)))"
      ],
      "metadata": {
        "id": "EgW0DCOlljhx",
        "colab": {
          "base_uri": "https://localhost:8080/",
          "height": 396
        },
        "outputId": "d8742b32-6e31-4628-bfbe-fda419d7453a"
      },
      "execution_count": 229,
      "outputs": [
        {
          "output_type": "error",
          "ename": "KeyboardInterrupt",
          "evalue": "ignored",
          "traceback": [
            "\u001b[0;31m---------------------------------------------------------------------------\u001b[0m",
            "\u001b[0;31mKeyboardInterrupt\u001b[0m                         Traceback (most recent call last)",
            "\u001b[0;32m<ipython-input-229-8fda17942aa6>\u001b[0m in \u001b[0;36m<module>\u001b[0;34m()\u001b[0m\n\u001b[1;32m      1\u001b[0m \u001b[0;31m#support vektor machine algoritm\u001b[0m\u001b[0;34m\u001b[0m\u001b[0;34m\u001b[0m\u001b[0;34m\u001b[0m\u001b[0m\n\u001b[1;32m      2\u001b[0m \u001b[0;32mfrom\u001b[0m \u001b[0msklearn\u001b[0m\u001b[0;34m.\u001b[0m\u001b[0msvm\u001b[0m \u001b[0;32mimport\u001b[0m \u001b[0mSVC\u001b[0m\u001b[0;34m\u001b[0m\u001b[0;34m\u001b[0m\u001b[0m\n\u001b[0;32m----> 3\u001b[0;31m \u001b[0mcls\u001b[0m \u001b[0;34m=\u001b[0m \u001b[0mSVC\u001b[0m\u001b[0;34m(\u001b[0m\u001b[0mkernel\u001b[0m \u001b[0;34m=\u001b[0m \u001b[0;34m'linear'\u001b[0m\u001b[0;34m)\u001b[0m\u001b[0;34m.\u001b[0m\u001b[0mfit\u001b[0m\u001b[0;34m(\u001b[0m\u001b[0mX_train\u001b[0m\u001b[0;34m,\u001b[0m\u001b[0my_train\u001b[0m\u001b[0;34m)\u001b[0m\u001b[0;34m\u001b[0m\u001b[0;34m\u001b[0m\u001b[0m\n\u001b[0m\u001b[1;32m      4\u001b[0m \u001b[0my_pred\u001b[0m \u001b[0;34m=\u001b[0m \u001b[0mcls\u001b[0m\u001b[0;34m.\u001b[0m\u001b[0mpredict\u001b[0m\u001b[0;34m(\u001b[0m\u001b[0mX_test\u001b[0m\u001b[0;34m)\u001b[0m\u001b[0;34m\u001b[0m\u001b[0;34m\u001b[0m\u001b[0m\n\u001b[1;32m      5\u001b[0m \u001b[0;34m\u001b[0m\u001b[0m\n",
            "\u001b[0;32m/usr/local/lib/python3.7/dist-packages/sklearn/svm/_base.py\u001b[0m in \u001b[0;36mfit\u001b[0;34m(self, X, y, sample_weight)\u001b[0m\n\u001b[1;32m    253\u001b[0m \u001b[0;34m\u001b[0m\u001b[0m\n\u001b[1;32m    254\u001b[0m         \u001b[0mseed\u001b[0m \u001b[0;34m=\u001b[0m \u001b[0mrnd\u001b[0m\u001b[0;34m.\u001b[0m\u001b[0mrandint\u001b[0m\u001b[0;34m(\u001b[0m\u001b[0mnp\u001b[0m\u001b[0;34m.\u001b[0m\u001b[0miinfo\u001b[0m\u001b[0;34m(\u001b[0m\u001b[0;34m\"i\"\u001b[0m\u001b[0;34m)\u001b[0m\u001b[0;34m.\u001b[0m\u001b[0mmax\u001b[0m\u001b[0;34m)\u001b[0m\u001b[0;34m\u001b[0m\u001b[0;34m\u001b[0m\u001b[0m\n\u001b[0;32m--> 255\u001b[0;31m         \u001b[0mfit\u001b[0m\u001b[0;34m(\u001b[0m\u001b[0mX\u001b[0m\u001b[0;34m,\u001b[0m \u001b[0my\u001b[0m\u001b[0;34m,\u001b[0m \u001b[0msample_weight\u001b[0m\u001b[0;34m,\u001b[0m \u001b[0msolver_type\u001b[0m\u001b[0;34m,\u001b[0m \u001b[0mkernel\u001b[0m\u001b[0;34m,\u001b[0m \u001b[0mrandom_seed\u001b[0m\u001b[0;34m=\u001b[0m\u001b[0mseed\u001b[0m\u001b[0;34m)\u001b[0m\u001b[0;34m\u001b[0m\u001b[0;34m\u001b[0m\u001b[0m\n\u001b[0m\u001b[1;32m    256\u001b[0m         \u001b[0;31m# see comment on the other call to np.iinfo in this file\u001b[0m\u001b[0;34m\u001b[0m\u001b[0;34m\u001b[0m\u001b[0;34m\u001b[0m\u001b[0m\n\u001b[1;32m    257\u001b[0m \u001b[0;34m\u001b[0m\u001b[0m\n",
            "\u001b[0;32m/usr/local/lib/python3.7/dist-packages/sklearn/svm/_base.py\u001b[0m in \u001b[0;36m_dense_fit\u001b[0;34m(self, X, y, sample_weight, solver_type, kernel, random_seed)\u001b[0m\n\u001b[1;32m    331\u001b[0m             \u001b[0mepsilon\u001b[0m\u001b[0;34m=\u001b[0m\u001b[0mself\u001b[0m\u001b[0;34m.\u001b[0m\u001b[0mepsilon\u001b[0m\u001b[0;34m,\u001b[0m\u001b[0;34m\u001b[0m\u001b[0;34m\u001b[0m\u001b[0m\n\u001b[1;32m    332\u001b[0m             \u001b[0mmax_iter\u001b[0m\u001b[0;34m=\u001b[0m\u001b[0mself\u001b[0m\u001b[0;34m.\u001b[0m\u001b[0mmax_iter\u001b[0m\u001b[0;34m,\u001b[0m\u001b[0;34m\u001b[0m\u001b[0;34m\u001b[0m\u001b[0m\n\u001b[0;32m--> 333\u001b[0;31m             \u001b[0mrandom_seed\u001b[0m\u001b[0;34m=\u001b[0m\u001b[0mrandom_seed\u001b[0m\u001b[0;34m,\u001b[0m\u001b[0;34m\u001b[0m\u001b[0;34m\u001b[0m\u001b[0m\n\u001b[0m\u001b[1;32m    334\u001b[0m         )\n\u001b[1;32m    335\u001b[0m \u001b[0;34m\u001b[0m\u001b[0m\n",
            "\u001b[0;31mKeyboardInterrupt\u001b[0m: "
          ]
        }
      ]
    },
    {
      "cell_type": "code",
      "source": [
        "from sklearn.tree import DecisionTreeClassifier\n",
        "dtc = DecisionTreeClassifier(criterion='entropy')\n",
        "dtc.fit(X_train,y_train)\n",
        "y_pred = dtc.predict(X_test)\n",
        "\n",
        "print('Accuracy of Decision Tree :' ,acc)\n",
        "print('**********')\n",
        "cm=confusion_matrix(y_test,y_pred)\n",
        "print(cm)\n",
        "\n",
        "from sklearn.model_selection import cross_val_score\n",
        "success = cross_val_score(estimator = dtc, X=X_train, y=y_train, cv =10)\n",
        "\n",
        "print(success)\n",
        "print(acc)"
      ],
      "metadata": {
        "colab": {
          "base_uri": "https://localhost:8080/"
        },
        "id": "_DpBpOruqBMC",
        "outputId": "27a0c7c0-1329-46ef-dba0-d34ba493839a"
      },
      "execution_count": null,
      "outputs": [
        {
          "output_type": "stream",
          "name": "stdout",
          "text": [
            "[[282 130]\n",
            " [134 110]]\n",
            "[0.6259542  0.58396947 0.58396947 0.58015267 0.60687023 0.52290076\n",
            " 0.59160305 0.57633588 0.61450382 0.61068702]\n",
            "0.6280487804878049\n"
          ]
        }
      ]
    },
    {
      "cell_type": "code",
      "source": [
        "from sklearn.model_selection import cross_val_score\n",
        "success = cross_val_score(estimator = dtc, X=X_train, y=y_train, cv =4)\n",
        "\n",
        "print(success)\n",
        "print(acc)"
      ],
      "metadata": {
        "colab": {
          "base_uri": "https://localhost:8080/"
        },
        "id": "ek0fAsBnm8vo",
        "outputId": "95ecc5e5-6717-4983-e037-85bfca9dd0fb"
      },
      "execution_count": null,
      "outputs": [
        {
          "output_type": "stream",
          "name": "stdout",
          "text": [
            "[0.58473282 0.61526718 0.60305344 0.58778626]\n",
            "0.6280487804878049\n"
          ]
        }
      ]
    }
  ]
}